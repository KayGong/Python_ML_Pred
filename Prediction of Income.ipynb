{
 "cells": [
  {
   "cell_type": "code",
   "execution_count": 1,
   "metadata": {},
   "outputs": [],
   "source": [
    "# Loda Libraies\n",
    "# Data Manipulation \n",
    "import numpy as np\n",
    "import pandas as pd\n",
    " \n",
    "# Visualization \n",
    "import matplotlib.pyplot as plt\n",
    "import missingno\n",
    "import seaborn as sns\n",
    "from pandas.plotting import scatter_matrix\n",
    "from mpl_toolkits.mplot3d import Axes3D\n",
    " \n",
    "# Feature Selection and Encoding\n",
    "from sklearn.feature_selection import RFE, RFECV\n",
    "from sklearn.svm import SVR\n",
    "from sklearn.decomposition import PCA\n",
    "from sklearn.preprocessing import OneHotEncoder, LabelEncoder, label_binarize\n",
    " \n",
    "# Machine learning \n",
    "import sklearn.ensemble as ske\n",
    "from sklearn import datasets, model_selection, tree, preprocessing, metrics, linear_model\n",
    "from sklearn.svm import LinearSVC\n",
    "from sklearn.ensemble import RandomForestClassifier, GradientBoostingClassifier\n",
    "from sklearn.neighbors import KNeighborsClassifier\n",
    "from sklearn.naive_bayes import GaussianNB\n",
    "from sklearn.linear_model import LinearRegression, LogisticRegression, Ridge, Lasso, SGDClassifier\n",
    "from sklearn.tree import DecisionTreeClassifier\n",
    " \n",
    "# Grid and Random Search\n",
    "import scipy.stats as st\n",
    "from scipy.stats import randint as sp_randint\n",
    "from sklearn.model_selection import GridSearchCV\n",
    "from sklearn.model_selection import RandomizedSearchCV\n",
    "from sklearn.model_selection import train_test_split\n",
    "from sklearn.model_selection import cross_val_score\n",
    " \n",
    "# Metrics\n",
    "from sklearn.metrics import precision_recall_fscore_support, roc_curve, auc\n",
    " \n",
    "# Plot the Figures Inline\n",
    "%matplotlib inline"
   ]
  },
  {
   "cell_type": "code",
   "execution_count": 2,
   "metadata": {},
   "outputs": [
    {
     "name": "stderr",
     "output_type": "stream",
     "text": [
      "/anaconda3/lib/python3.6/site-packages/ipykernel_launcher.py:1: ParserWarning: Falling back to the 'python' engine because the 'c' engine does not support regex separators (separators > 1 char and different from '\\s+' are interpreted as regex); you can avoid this warning by specifying engine='python'.\n",
      "  \"\"\"Entry point for launching an IPython kernel.\n",
      "/anaconda3/lib/python3.6/site-packages/ipykernel_launcher.py:2: ParserWarning: Falling back to the 'python' engine because the 'c' engine does not support regex separators (separators > 1 char and different from '\\s+' are interpreted as regex); you can avoid this warning by specifying engine='python'.\n",
      "  \n"
     ]
    }
   ],
   "source": [
    "data = pd.read_csv('/Users/user/Desktop/FDM/AIA/Data_Problem/dataset/adult_data.txt', header = None, sep=',\\s', na_values=[\"?\"])\n",
    "test = pd.read_csv('/Users/user/Desktop/FDM/AIA/Data_Problem/dataset/adult_test.txt', header = None, sep=',\\s', na_values=[\"?\"])"
   ]
  },
  {
   "cell_type": "code",
   "execution_count": 3,
   "metadata": {},
   "outputs": [],
   "source": [
    "col = ['age', 'workclass', 'fnlwgt', 'edu', 'edu_num', 'marital_status', 'occupation', 'relationship', 'race', 'sex', 'capital_gain', 'caipital_loss', 'hours_pw', 'native_con', 'income']\n",
    "data.columns = col\n",
    "test.columns = col"
   ]
  },
  {
   "cell_type": "code",
   "execution_count": 4,
   "metadata": {},
   "outputs": [
    {
     "name": "stdout",
     "output_type": "stream",
     "text": [
      "(32561, 15)\n",
      "(16281, 15)\n"
     ]
    }
   ],
   "source": [
    "#shape with unknowns\n",
    "print(data.shape)\n",
    "print(test.shape)"
   ]
  },
  {
   "cell_type": "code",
   "execution_count": 5,
   "metadata": {},
   "outputs": [],
   "source": [
    "# delete the row with unknow values\n",
    "data.dropna(inplace=True)\n",
    "test.dropna(inplace=True)"
   ]
  },
  {
   "cell_type": "code",
   "execution_count": 6,
   "metadata": {
    "scrolled": true
   },
   "outputs": [
    {
     "name": "stdout",
     "output_type": "stream",
     "text": [
      "(30162, 15)\n",
      "(15060, 15)\n"
     ]
    }
   ],
   "source": [
    "#shape without unknowns\n",
    "print(data.shape)\n",
    "print(test.shape)"
   ]
  },
  {
   "cell_type": "code",
   "execution_count": 7,
   "metadata": {},
   "outputs": [
    {
     "data": {
      "text/html": [
       "<div>\n",
       "<style scoped>\n",
       "    .dataframe tbody tr th:only-of-type {\n",
       "        vertical-align: middle;\n",
       "    }\n",
       "\n",
       "    .dataframe tbody tr th {\n",
       "        vertical-align: top;\n",
       "    }\n",
       "\n",
       "    .dataframe thead th {\n",
       "        text-align: right;\n",
       "    }\n",
       "</style>\n",
       "<table border=\"1\" class=\"dataframe\">\n",
       "  <thead>\n",
       "    <tr style=\"text-align: right;\">\n",
       "      <th></th>\n",
       "      <th>age</th>\n",
       "      <th>workclass</th>\n",
       "      <th>fnlwgt</th>\n",
       "      <th>edu</th>\n",
       "      <th>edu_num</th>\n",
       "      <th>marital_status</th>\n",
       "      <th>occupation</th>\n",
       "      <th>relationship</th>\n",
       "      <th>race</th>\n",
       "      <th>sex</th>\n",
       "      <th>capital_gain</th>\n",
       "      <th>caipital_loss</th>\n",
       "      <th>hours_pw</th>\n",
       "      <th>native_con</th>\n",
       "      <th>income</th>\n",
       "    </tr>\n",
       "  </thead>\n",
       "  <tbody>\n",
       "    <tr>\n",
       "      <th>0</th>\n",
       "      <td>39</td>\n",
       "      <td>State-gov</td>\n",
       "      <td>77516</td>\n",
       "      <td>Bachelors</td>\n",
       "      <td>13</td>\n",
       "      <td>Never-married</td>\n",
       "      <td>Adm-clerical</td>\n",
       "      <td>Not-in-family</td>\n",
       "      <td>White</td>\n",
       "      <td>Male</td>\n",
       "      <td>2174</td>\n",
       "      <td>0</td>\n",
       "      <td>40</td>\n",
       "      <td>United-States</td>\n",
       "      <td>&lt;=50K</td>\n",
       "    </tr>\n",
       "    <tr>\n",
       "      <th>1</th>\n",
       "      <td>50</td>\n",
       "      <td>Self-emp-not-inc</td>\n",
       "      <td>83311</td>\n",
       "      <td>Bachelors</td>\n",
       "      <td>13</td>\n",
       "      <td>Married-civ-spouse</td>\n",
       "      <td>Exec-managerial</td>\n",
       "      <td>Husband</td>\n",
       "      <td>White</td>\n",
       "      <td>Male</td>\n",
       "      <td>0</td>\n",
       "      <td>0</td>\n",
       "      <td>13</td>\n",
       "      <td>United-States</td>\n",
       "      <td>&lt;=50K</td>\n",
       "    </tr>\n",
       "    <tr>\n",
       "      <th>2</th>\n",
       "      <td>38</td>\n",
       "      <td>Private</td>\n",
       "      <td>215646</td>\n",
       "      <td>HS-grad</td>\n",
       "      <td>9</td>\n",
       "      <td>Divorced</td>\n",
       "      <td>Handlers-cleaners</td>\n",
       "      <td>Not-in-family</td>\n",
       "      <td>White</td>\n",
       "      <td>Male</td>\n",
       "      <td>0</td>\n",
       "      <td>0</td>\n",
       "      <td>40</td>\n",
       "      <td>United-States</td>\n",
       "      <td>&lt;=50K</td>\n",
       "    </tr>\n",
       "    <tr>\n",
       "      <th>3</th>\n",
       "      <td>53</td>\n",
       "      <td>Private</td>\n",
       "      <td>234721</td>\n",
       "      <td>11th</td>\n",
       "      <td>7</td>\n",
       "      <td>Married-civ-spouse</td>\n",
       "      <td>Handlers-cleaners</td>\n",
       "      <td>Husband</td>\n",
       "      <td>Black</td>\n",
       "      <td>Male</td>\n",
       "      <td>0</td>\n",
       "      <td>0</td>\n",
       "      <td>40</td>\n",
       "      <td>United-States</td>\n",
       "      <td>&lt;=50K</td>\n",
       "    </tr>\n",
       "    <tr>\n",
       "      <th>4</th>\n",
       "      <td>28</td>\n",
       "      <td>Private</td>\n",
       "      <td>338409</td>\n",
       "      <td>Bachelors</td>\n",
       "      <td>13</td>\n",
       "      <td>Married-civ-spouse</td>\n",
       "      <td>Prof-specialty</td>\n",
       "      <td>Wife</td>\n",
       "      <td>Black</td>\n",
       "      <td>Female</td>\n",
       "      <td>0</td>\n",
       "      <td>0</td>\n",
       "      <td>40</td>\n",
       "      <td>Cuba</td>\n",
       "      <td>&lt;=50K</td>\n",
       "    </tr>\n",
       "  </tbody>\n",
       "</table>\n",
       "</div>"
      ],
      "text/plain": [
       "   age         workclass  fnlwgt        edu  edu_num      marital_status  \\\n",
       "0   39         State-gov   77516  Bachelors       13       Never-married   \n",
       "1   50  Self-emp-not-inc   83311  Bachelors       13  Married-civ-spouse   \n",
       "2   38           Private  215646    HS-grad        9            Divorced   \n",
       "3   53           Private  234721       11th        7  Married-civ-spouse   \n",
       "4   28           Private  338409  Bachelors       13  Married-civ-spouse   \n",
       "\n",
       "          occupation   relationship   race     sex  capital_gain  \\\n",
       "0       Adm-clerical  Not-in-family  White    Male          2174   \n",
       "1    Exec-managerial        Husband  White    Male             0   \n",
       "2  Handlers-cleaners  Not-in-family  White    Male             0   \n",
       "3  Handlers-cleaners        Husband  Black    Male             0   \n",
       "4     Prof-specialty           Wife  Black  Female             0   \n",
       "\n",
       "   caipital_loss  hours_pw     native_con income  \n",
       "0              0        40  United-States  <=50K  \n",
       "1              0        13  United-States  <=50K  \n",
       "2              0        40  United-States  <=50K  \n",
       "3              0        40  United-States  <=50K  \n",
       "4              0        40           Cuba  <=50K  "
      ]
     },
     "execution_count": 7,
     "metadata": {},
     "output_type": "execute_result"
    }
   ],
   "source": [
    "#head\n",
    "data.head()"
   ]
  },
  {
   "cell_type": "code",
   "execution_count": 8,
   "metadata": {
    "scrolled": true
   },
   "outputs": [
    {
     "data": {
      "text/html": [
       "<div>\n",
       "<style scoped>\n",
       "    .dataframe tbody tr th:only-of-type {\n",
       "        vertical-align: middle;\n",
       "    }\n",
       "\n",
       "    .dataframe tbody tr th {\n",
       "        vertical-align: top;\n",
       "    }\n",
       "\n",
       "    .dataframe thead th {\n",
       "        text-align: right;\n",
       "    }\n",
       "</style>\n",
       "<table border=\"1\" class=\"dataframe\">\n",
       "  <thead>\n",
       "    <tr style=\"text-align: right;\">\n",
       "      <th></th>\n",
       "      <th>age</th>\n",
       "      <th>workclass</th>\n",
       "      <th>fnlwgt</th>\n",
       "      <th>edu</th>\n",
       "      <th>edu_num</th>\n",
       "      <th>marital_status</th>\n",
       "      <th>occupation</th>\n",
       "      <th>relationship</th>\n",
       "      <th>race</th>\n",
       "      <th>sex</th>\n",
       "      <th>capital_gain</th>\n",
       "      <th>caipital_loss</th>\n",
       "      <th>hours_pw</th>\n",
       "      <th>native_con</th>\n",
       "      <th>income</th>\n",
       "    </tr>\n",
       "  </thead>\n",
       "  <tbody>\n",
       "    <tr>\n",
       "      <th>0</th>\n",
       "      <td>25</td>\n",
       "      <td>Private</td>\n",
       "      <td>226802</td>\n",
       "      <td>11th</td>\n",
       "      <td>7</td>\n",
       "      <td>Never-married</td>\n",
       "      <td>Machine-op-inspct</td>\n",
       "      <td>Own-child</td>\n",
       "      <td>Black</td>\n",
       "      <td>Male</td>\n",
       "      <td>0</td>\n",
       "      <td>0</td>\n",
       "      <td>40</td>\n",
       "      <td>United-States</td>\n",
       "      <td>&lt;=50K.</td>\n",
       "    </tr>\n",
       "    <tr>\n",
       "      <th>1</th>\n",
       "      <td>38</td>\n",
       "      <td>Private</td>\n",
       "      <td>89814</td>\n",
       "      <td>HS-grad</td>\n",
       "      <td>9</td>\n",
       "      <td>Married-civ-spouse</td>\n",
       "      <td>Farming-fishing</td>\n",
       "      <td>Husband</td>\n",
       "      <td>White</td>\n",
       "      <td>Male</td>\n",
       "      <td>0</td>\n",
       "      <td>0</td>\n",
       "      <td>50</td>\n",
       "      <td>United-States</td>\n",
       "      <td>&lt;=50K.</td>\n",
       "    </tr>\n",
       "    <tr>\n",
       "      <th>2</th>\n",
       "      <td>28</td>\n",
       "      <td>Local-gov</td>\n",
       "      <td>336951</td>\n",
       "      <td>Assoc-acdm</td>\n",
       "      <td>12</td>\n",
       "      <td>Married-civ-spouse</td>\n",
       "      <td>Protective-serv</td>\n",
       "      <td>Husband</td>\n",
       "      <td>White</td>\n",
       "      <td>Male</td>\n",
       "      <td>0</td>\n",
       "      <td>0</td>\n",
       "      <td>40</td>\n",
       "      <td>United-States</td>\n",
       "      <td>&gt;50K.</td>\n",
       "    </tr>\n",
       "    <tr>\n",
       "      <th>3</th>\n",
       "      <td>44</td>\n",
       "      <td>Private</td>\n",
       "      <td>160323</td>\n",
       "      <td>Some-college</td>\n",
       "      <td>10</td>\n",
       "      <td>Married-civ-spouse</td>\n",
       "      <td>Machine-op-inspct</td>\n",
       "      <td>Husband</td>\n",
       "      <td>Black</td>\n",
       "      <td>Male</td>\n",
       "      <td>7688</td>\n",
       "      <td>0</td>\n",
       "      <td>40</td>\n",
       "      <td>United-States</td>\n",
       "      <td>&gt;50K.</td>\n",
       "    </tr>\n",
       "    <tr>\n",
       "      <th>5</th>\n",
       "      <td>34</td>\n",
       "      <td>Private</td>\n",
       "      <td>198693</td>\n",
       "      <td>10th</td>\n",
       "      <td>6</td>\n",
       "      <td>Never-married</td>\n",
       "      <td>Other-service</td>\n",
       "      <td>Not-in-family</td>\n",
       "      <td>White</td>\n",
       "      <td>Male</td>\n",
       "      <td>0</td>\n",
       "      <td>0</td>\n",
       "      <td>30</td>\n",
       "      <td>United-States</td>\n",
       "      <td>&lt;=50K.</td>\n",
       "    </tr>\n",
       "  </tbody>\n",
       "</table>\n",
       "</div>"
      ],
      "text/plain": [
       "   age  workclass  fnlwgt           edu  edu_num      marital_status  \\\n",
       "0   25    Private  226802          11th        7       Never-married   \n",
       "1   38    Private   89814       HS-grad        9  Married-civ-spouse   \n",
       "2   28  Local-gov  336951    Assoc-acdm       12  Married-civ-spouse   \n",
       "3   44    Private  160323  Some-college       10  Married-civ-spouse   \n",
       "5   34    Private  198693          10th        6       Never-married   \n",
       "\n",
       "          occupation   relationship   race   sex  capital_gain  caipital_loss  \\\n",
       "0  Machine-op-inspct      Own-child  Black  Male             0              0   \n",
       "1    Farming-fishing        Husband  White  Male             0              0   \n",
       "2    Protective-serv        Husband  White  Male             0              0   \n",
       "3  Machine-op-inspct        Husband  Black  Male          7688              0   \n",
       "5      Other-service  Not-in-family  White  Male             0              0   \n",
       "\n",
       "   hours_pw     native_con  income  \n",
       "0        40  United-States  <=50K.  \n",
       "1        50  United-States  <=50K.  \n",
       "2        40  United-States   >50K.  \n",
       "3        40  United-States   >50K.  \n",
       "5        30  United-States  <=50K.  "
      ]
     },
     "execution_count": 8,
     "metadata": {},
     "output_type": "execute_result"
    }
   ],
   "source": [
    "test.head()"
   ]
  },
  {
   "cell_type": "code",
   "execution_count": 9,
   "metadata": {
    "scrolled": false
   },
   "outputs": [
    {
     "name": "stdout",
     "output_type": "stream",
     "text": [
      "income\n",
      "<=50K    22654\n",
      ">50K      7508\n",
      "dtype: int64\n",
      "income\n",
      "<=50K.    11360\n",
      ">50K.      3700\n",
      "dtype: int64\n"
     ]
    }
   ],
   "source": [
    "# class distribution\n",
    "print(data.groupby('income').size())\n",
    "print(test.groupby('income').size())"
   ]
  },
  {
   "cell_type": "code",
   "execution_count": 10,
   "metadata": {
    "scrolled": true
   },
   "outputs": [
    {
     "data": {
      "text/html": [
       "<div>\n",
       "<style scoped>\n",
       "    .dataframe tbody tr th:only-of-type {\n",
       "        vertical-align: middle;\n",
       "    }\n",
       "\n",
       "    .dataframe tbody tr th {\n",
       "        vertical-align: top;\n",
       "    }\n",
       "\n",
       "    .dataframe thead th {\n",
       "        text-align: right;\n",
       "    }\n",
       "</style>\n",
       "<table border=\"1\" class=\"dataframe\">\n",
       "  <thead>\n",
       "    <tr style=\"text-align: right;\">\n",
       "      <th></th>\n",
       "      <th>age</th>\n",
       "      <th>fnlwgt</th>\n",
       "      <th>edu_num</th>\n",
       "      <th>capital_gain</th>\n",
       "      <th>caipital_loss</th>\n",
       "      <th>hours_pw</th>\n",
       "    </tr>\n",
       "  </thead>\n",
       "  <tbody>\n",
       "    <tr>\n",
       "      <th>count</th>\n",
       "      <td>30162.000000</td>\n",
       "      <td>3.016200e+04</td>\n",
       "      <td>30162.000000</td>\n",
       "      <td>30162.000000</td>\n",
       "      <td>30162.000000</td>\n",
       "      <td>30162.000000</td>\n",
       "    </tr>\n",
       "    <tr>\n",
       "      <th>mean</th>\n",
       "      <td>38.437902</td>\n",
       "      <td>1.897938e+05</td>\n",
       "      <td>10.121312</td>\n",
       "      <td>1092.007858</td>\n",
       "      <td>88.372489</td>\n",
       "      <td>40.931238</td>\n",
       "    </tr>\n",
       "    <tr>\n",
       "      <th>std</th>\n",
       "      <td>13.134665</td>\n",
       "      <td>1.056530e+05</td>\n",
       "      <td>2.549995</td>\n",
       "      <td>7406.346497</td>\n",
       "      <td>404.298370</td>\n",
       "      <td>11.979984</td>\n",
       "    </tr>\n",
       "    <tr>\n",
       "      <th>min</th>\n",
       "      <td>17.000000</td>\n",
       "      <td>1.376900e+04</td>\n",
       "      <td>1.000000</td>\n",
       "      <td>0.000000</td>\n",
       "      <td>0.000000</td>\n",
       "      <td>1.000000</td>\n",
       "    </tr>\n",
       "    <tr>\n",
       "      <th>25%</th>\n",
       "      <td>28.000000</td>\n",
       "      <td>1.176272e+05</td>\n",
       "      <td>9.000000</td>\n",
       "      <td>0.000000</td>\n",
       "      <td>0.000000</td>\n",
       "      <td>40.000000</td>\n",
       "    </tr>\n",
       "    <tr>\n",
       "      <th>50%</th>\n",
       "      <td>37.000000</td>\n",
       "      <td>1.784250e+05</td>\n",
       "      <td>10.000000</td>\n",
       "      <td>0.000000</td>\n",
       "      <td>0.000000</td>\n",
       "      <td>40.000000</td>\n",
       "    </tr>\n",
       "    <tr>\n",
       "      <th>75%</th>\n",
       "      <td>47.000000</td>\n",
       "      <td>2.376285e+05</td>\n",
       "      <td>13.000000</td>\n",
       "      <td>0.000000</td>\n",
       "      <td>0.000000</td>\n",
       "      <td>45.000000</td>\n",
       "    </tr>\n",
       "    <tr>\n",
       "      <th>max</th>\n",
       "      <td>90.000000</td>\n",
       "      <td>1.484705e+06</td>\n",
       "      <td>16.000000</td>\n",
       "      <td>99999.000000</td>\n",
       "      <td>4356.000000</td>\n",
       "      <td>99.000000</td>\n",
       "    </tr>\n",
       "  </tbody>\n",
       "</table>\n",
       "</div>"
      ],
      "text/plain": [
       "                age        fnlwgt       edu_num  capital_gain  caipital_loss  \\\n",
       "count  30162.000000  3.016200e+04  30162.000000  30162.000000   30162.000000   \n",
       "mean      38.437902  1.897938e+05     10.121312   1092.007858      88.372489   \n",
       "std       13.134665  1.056530e+05      2.549995   7406.346497     404.298370   \n",
       "min       17.000000  1.376900e+04      1.000000      0.000000       0.000000   \n",
       "25%       28.000000  1.176272e+05      9.000000      0.000000       0.000000   \n",
       "50%       37.000000  1.784250e+05     10.000000      0.000000       0.000000   \n",
       "75%       47.000000  2.376285e+05     13.000000      0.000000       0.000000   \n",
       "max       90.000000  1.484705e+06     16.000000  99999.000000    4356.000000   \n",
       "\n",
       "           hours_pw  \n",
       "count  30162.000000  \n",
       "mean      40.931238  \n",
       "std       11.979984  \n",
       "min        1.000000  \n",
       "25%       40.000000  \n",
       "50%       40.000000  \n",
       "75%       45.000000  \n",
       "max       99.000000  "
      ]
     },
     "execution_count": 10,
     "metadata": {},
     "output_type": "execute_result"
    }
   ],
   "source": [
    "data.describe()"
   ]
  },
  {
   "cell_type": "code",
   "execution_count": 11,
   "metadata": {},
   "outputs": [
    {
     "data": {
      "text/html": [
       "<div>\n",
       "<style scoped>\n",
       "    .dataframe tbody tr th:only-of-type {\n",
       "        vertical-align: middle;\n",
       "    }\n",
       "\n",
       "    .dataframe tbody tr th {\n",
       "        vertical-align: top;\n",
       "    }\n",
       "\n",
       "    .dataframe thead th {\n",
       "        text-align: right;\n",
       "    }\n",
       "</style>\n",
       "<table border=\"1\" class=\"dataframe\">\n",
       "  <thead>\n",
       "    <tr style=\"text-align: right;\">\n",
       "      <th></th>\n",
       "      <th>workclass</th>\n",
       "      <th>edu</th>\n",
       "      <th>marital_status</th>\n",
       "      <th>occupation</th>\n",
       "      <th>relationship</th>\n",
       "      <th>race</th>\n",
       "      <th>sex</th>\n",
       "      <th>native_con</th>\n",
       "      <th>income</th>\n",
       "    </tr>\n",
       "  </thead>\n",
       "  <tbody>\n",
       "    <tr>\n",
       "      <th>count</th>\n",
       "      <td>30162</td>\n",
       "      <td>30162</td>\n",
       "      <td>30162</td>\n",
       "      <td>30162</td>\n",
       "      <td>30162</td>\n",
       "      <td>30162</td>\n",
       "      <td>30162</td>\n",
       "      <td>30162</td>\n",
       "      <td>30162</td>\n",
       "    </tr>\n",
       "    <tr>\n",
       "      <th>unique</th>\n",
       "      <td>7</td>\n",
       "      <td>16</td>\n",
       "      <td>7</td>\n",
       "      <td>14</td>\n",
       "      <td>6</td>\n",
       "      <td>5</td>\n",
       "      <td>2</td>\n",
       "      <td>41</td>\n",
       "      <td>2</td>\n",
       "    </tr>\n",
       "    <tr>\n",
       "      <th>top</th>\n",
       "      <td>Private</td>\n",
       "      <td>HS-grad</td>\n",
       "      <td>Married-civ-spouse</td>\n",
       "      <td>Prof-specialty</td>\n",
       "      <td>Husband</td>\n",
       "      <td>White</td>\n",
       "      <td>Male</td>\n",
       "      <td>United-States</td>\n",
       "      <td>&lt;=50K</td>\n",
       "    </tr>\n",
       "    <tr>\n",
       "      <th>freq</th>\n",
       "      <td>22286</td>\n",
       "      <td>9840</td>\n",
       "      <td>14065</td>\n",
       "      <td>4038</td>\n",
       "      <td>12463</td>\n",
       "      <td>25933</td>\n",
       "      <td>20380</td>\n",
       "      <td>27504</td>\n",
       "      <td>22654</td>\n",
       "    </tr>\n",
       "  </tbody>\n",
       "</table>\n",
       "</div>"
      ],
      "text/plain": [
       "       workclass      edu      marital_status      occupation relationship  \\\n",
       "count      30162    30162               30162           30162        30162   \n",
       "unique         7       16                   7              14            6   \n",
       "top      Private  HS-grad  Married-civ-spouse  Prof-specialty      Husband   \n",
       "freq       22286     9840               14065            4038        12463   \n",
       "\n",
       "         race    sex     native_con income  \n",
       "count   30162  30162          30162  30162  \n",
       "unique      5      2             41      2  \n",
       "top     White   Male  United-States  <=50K  \n",
       "freq    25933  20380          27504  22654  "
      ]
     },
     "execution_count": 11,
     "metadata": {},
     "output_type": "execute_result"
    }
   ],
   "source": [
    "data.describe(include = ['object'])"
   ]
  },
  {
   "cell_type": "code",
   "execution_count": 12,
   "metadata": {},
   "outputs": [
    {
     "data": {
      "image/png": "[encoded data removed]",
      "text/plain": [
       "<Figure size 432x288 with 2 Axes>"
      ]
     },
     "metadata": {},
     "output_type": "display_data"
    }
   ],
   "source": [
    "# For continuous\n",
    "plt.style.use('ggplot')\n",
    "fig, axes = plt.subplots(2,1)\n",
    "#Draw the graph of income vs age\n",
    "data['age'][data.income == '<=50K'].plot(kind = 'kde', label = '<=50K', ax = axes[0], legend = True, linestyle = '-')\n",
    "data['age'][data.income == '>50K'].plot(kind = 'kde', label = '>50K', ax = axes[0], legend = True, linestyle = '--')\n",
    "#Draw the graph of working hours vs age\n",
    "data['hours_pw'][data.income == '<=50K'].plot(kind = 'kde', label = '<=50K', ax = axes[1], legend = True, linestyle = '-')\n",
    "data['hours_pw'][data.income == '>50K'].plot(kind = 'kde', label = '>50K', ax = axes[1], legend = True, linestyle = '--')\n",
    "plt.show()\n"
   ]
  },
  {
   "cell_type": "code",
   "execution_count": 13,
   "metadata": {},
   "outputs": [
    {
     "data": {
      "image/png": "[encoded data removed]",
      "text/plain": [
       "<Figure size 648x360 with 1 Axes>"
      ]
     },
     "metadata": {},
     "output_type": "display_data"
    },
    {
     "data": {
      "image/png": "[encoded data removed]",
      "text/plain": [
       "<Figure size 648x360 with 1 Axes>"
      ]
     },
     "metadata": {},
     "output_type": "display_data"
    },
    {
     "data": {
      "image/png": "[encoded data removed]",
      "text/plain": [
       "<Figure size 648x360 with 1 Axes>"
      ]
     },
     "metadata": {},
     "output_type": "display_data"
    }
   ],
   "source": [
    "#For discrete - choose the 3 highest frequecy class\n",
    "#For race\n",
    "race = pd.DataFrame(data.groupby(by = ['race','income']).aggregate(np.size).loc[:,'age'])\n",
    "race = race.reset_index()\n",
    "race.rename(columns={'age':'counts'}, inplace=True)\n",
    "race.sort_values(by = ['race','counts'], ascending=False, inplace=True)\n",
    "\n",
    "#For native country\n",
    "native_con = pd.DataFrame(data.groupby(by = ['native_con','income']).aggregate(np.size).loc[:,'age'])\n",
    "native_con = native_con.reset_index()\n",
    "native_con.rename(columns={'age':'counts'}, inplace=True)\n",
    "native_con.sort_values(by = ['native_con','counts'], ascending=False, inplace=True)\n",
    "\n",
    "#For work class\n",
    "workclass = pd.DataFrame(data.groupby(by = ['workclass','income']).aggregate(np.size).loc[:,'age'])\n",
    "workclass = workclass.reset_index()\n",
    "workclass.rename(columns={'age':'counts'}, inplace=True)\n",
    "workclass.sort_values(by = ['workclass','counts'], ascending=False, inplace=True)\n",
    "\n",
    "#Draw the graphs\n",
    "plt.figure(figsize=(9,5))\n",
    "sns.barplot(x=\"race\", y=\"counts\", hue = 'income', data=race)\n",
    "plt.show()\n",
    "\n",
    "plt.figure(figsize=(9,5))\n",
    "sns.barplot(x=\"native_con\", y=\"counts\", hue = 'income', data=native_con)\n",
    "plt.show()\n",
    "\n",
    "plt.figure(figsize=(9,5))\n",
    "sns.barplot(x=\"workclass\", y=\"counts\", hue = 'income', data=workclass)\n",
    "plt.show()\n"
   ]
  },
  {
   "cell_type": "code",
   "execution_count": 14,
   "metadata": {},
   "outputs": [
    {
     "data": {
      "text/html": [
       "<div>\n",
       "<style scoped>\n",
       "    .dataframe tbody tr th:only-of-type {\n",
       "        vertical-align: middle;\n",
       "    }\n",
       "\n",
       "    .dataframe tbody tr th {\n",
       "        vertical-align: top;\n",
       "    }\n",
       "\n",
       "    .dataframe thead th {\n",
       "        text-align: right;\n",
       "    }\n",
       "</style>\n",
       "<table border=\"1\" class=\"dataframe\">\n",
       "  <thead>\n",
       "    <tr style=\"text-align: right;\">\n",
       "      <th></th>\n",
       "      <th>age</th>\n",
       "      <th>workclass</th>\n",
       "      <th>fnlwgt</th>\n",
       "      <th>edu</th>\n",
       "      <th>edu_num</th>\n",
       "      <th>marital_status</th>\n",
       "      <th>occupation</th>\n",
       "      <th>relationship</th>\n",
       "      <th>race</th>\n",
       "      <th>sex</th>\n",
       "      <th>capital_gain</th>\n",
       "      <th>caipital_loss</th>\n",
       "      <th>hours_pw</th>\n",
       "      <th>native_con</th>\n",
       "      <th>income</th>\n",
       "    </tr>\n",
       "  </thead>\n",
       "  <tbody>\n",
       "    <tr>\n",
       "      <th>0</th>\n",
       "      <td>25</td>\n",
       "      <td>2</td>\n",
       "      <td>226802</td>\n",
       "      <td>1</td>\n",
       "      <td>7</td>\n",
       "      <td>4</td>\n",
       "      <td>6</td>\n",
       "      <td>3</td>\n",
       "      <td>2</td>\n",
       "      <td>1</td>\n",
       "      <td>0</td>\n",
       "      <td>0</td>\n",
       "      <td>40</td>\n",
       "      <td>37</td>\n",
       "      <td>0</td>\n",
       "    </tr>\n",
       "    <tr>\n",
       "      <th>1</th>\n",
       "      <td>38</td>\n",
       "      <td>2</td>\n",
       "      <td>89814</td>\n",
       "      <td>11</td>\n",
       "      <td>9</td>\n",
       "      <td>2</td>\n",
       "      <td>4</td>\n",
       "      <td>0</td>\n",
       "      <td>4</td>\n",
       "      <td>1</td>\n",
       "      <td>0</td>\n",
       "      <td>0</td>\n",
       "      <td>50</td>\n",
       "      <td>37</td>\n",
       "      <td>0</td>\n",
       "    </tr>\n",
       "    <tr>\n",
       "      <th>2</th>\n",
       "      <td>28</td>\n",
       "      <td>1</td>\n",
       "      <td>336951</td>\n",
       "      <td>7</td>\n",
       "      <td>12</td>\n",
       "      <td>2</td>\n",
       "      <td>10</td>\n",
       "      <td>0</td>\n",
       "      <td>4</td>\n",
       "      <td>1</td>\n",
       "      <td>0</td>\n",
       "      <td>0</td>\n",
       "      <td>40</td>\n",
       "      <td>37</td>\n",
       "      <td>1</td>\n",
       "    </tr>\n",
       "    <tr>\n",
       "      <th>3</th>\n",
       "      <td>44</td>\n",
       "      <td>2</td>\n",
       "      <td>160323</td>\n",
       "      <td>15</td>\n",
       "      <td>10</td>\n",
       "      <td>2</td>\n",
       "      <td>6</td>\n",
       "      <td>0</td>\n",
       "      <td>2</td>\n",
       "      <td>1</td>\n",
       "      <td>7688</td>\n",
       "      <td>0</td>\n",
       "      <td>40</td>\n",
       "      <td>37</td>\n",
       "      <td>1</td>\n",
       "    </tr>\n",
       "    <tr>\n",
       "      <th>5</th>\n",
       "      <td>34</td>\n",
       "      <td>2</td>\n",
       "      <td>198693</td>\n",
       "      <td>0</td>\n",
       "      <td>6</td>\n",
       "      <td>4</td>\n",
       "      <td>7</td>\n",
       "      <td>1</td>\n",
       "      <td>4</td>\n",
       "      <td>1</td>\n",
       "      <td>0</td>\n",
       "      <td>0</td>\n",
       "      <td>30</td>\n",
       "      <td>37</td>\n",
       "      <td>0</td>\n",
       "    </tr>\n",
       "  </tbody>\n",
       "</table>\n",
       "</div>"
      ],
      "text/plain": [
       "   age  workclass  fnlwgt  edu  edu_num  marital_status  occupation  \\\n",
       "0   25          2  226802    1        7               4           6   \n",
       "1   38          2   89814   11        9               2           4   \n",
       "2   28          1  336951    7       12               2          10   \n",
       "3   44          2  160323   15       10               2           6   \n",
       "5   34          2  198693    0        6               4           7   \n",
       "\n",
       "   relationship  race  sex  capital_gain  caipital_loss  hours_pw  native_con  \\\n",
       "0             3     2    1             0              0        40          37   \n",
       "1             0     4    1             0              0        50          37   \n",
       "2             0     4    1             0              0        40          37   \n",
       "3             0     2    1          7688              0        40          37   \n",
       "5             1     4    1             0              0        30          37   \n",
       "\n",
       "   income  \n",
       "0       0  \n",
       "1       0  \n",
       "2       1  \n",
       "3       1  \n",
       "5       0  "
      ]
     },
     "execution_count": 14,
     "metadata": {},
     "output_type": "execute_result"
    }
   ],
   "source": [
    "#Encoding for discrete variables\n",
    "for feature in data.columns:\n",
    "    if data[feature].dtype == 'object':\n",
    "        data[feature] = pd.Categorical(data[feature]).codes\n",
    "data.head()\n",
    "\n",
    "for feature in test.columns:\n",
    "    if test[feature].dtype == 'object':\n",
    "        test[feature] = pd.Categorical(test[feature]).codes\n",
    "test.head()"
   ]
  },
  {
   "cell_type": "code",
   "execution_count": 15,
   "metadata": {
    "scrolled": true
   },
   "outputs": [],
   "source": [
    "#Split the data\n",
    "X_train = data.loc[:,'age':'native_con']\n",
    "X_test = test.loc[:,'age':'native_con']\n",
    "y_train = data['income']\n",
    "y_test = test['income']"
   ]
  },
  {
   "cell_type": "code",
   "execution_count": 23,
   "metadata": {},
   "outputs": [
    {
     "data": {
      "text/plain": [
       "3700"
      ]
     },
     "execution_count": 23,
     "metadata": {},
     "output_type": "execute_result"
    }
   ],
   "source": [
    "#Real num of people whose income >50K\n",
    "y_test.sum()"
   ]
  },
  {
   "cell_type": "markdown",
   "metadata": {},
   "source": [
    "<font color = \"blue\" size = 3> $\\textbf{Linear Regression Model:}$ </font>"
   ]
  },
  {
   "cell_type": "code",
   "execution_count": 16,
   "metadata": {},
   "outputs": [
    {
     "name": "stdout",
     "output_type": "stream",
     "text": [
      "Predicted num of people will have >50K income is 3779\n",
      "Accuracy of model on train is 0.262476\n",
      "Accuracy of model on test is 0.254131\n",
      "14\n",
      "[0.00519, -0.01484, 0.0, -0.00347, 0.0485, -0.023, 0.00118, -0.01599, 0.01516, 0.11168, 1e-05, 0.00011, 0.00345, -0.00059]\n",
      "-0.5825781568139292\n"
     ]
    }
   ],
   "source": [
    "# Build Linear Regression Model\n",
    "lReg = LinearRegression()\n",
    "lReg.fit(X_train, y_train)\n",
    "\n",
    "# prediction of train\n",
    "lReg_pred = lReg.predict(X_test)\n",
    "\n",
    "#Prediction for >50K\n",
    "over = sum(lReg.predict(X_test))\n",
    "print('Predicted num of people will have >50K income is %d' %over)\n",
    "\n",
    "# Socre of Model\n",
    "print('Accuracy of model on train is %f' %lReg.score(X_train,y_train))\n",
    "print('Accuracy of model on test is %f' %lReg.score(X_test,y_test))\n",
    "\n",
    "# result of parameters\n",
    "w = lReg.coef_ \n",
    "b = lReg.intercept_\n",
    "#num of parameters\n",
    "print(len(w))\n",
    "#parameters\n",
    "print([round(i,5) for i in w])\n",
    "#intercept & bias\n",
    "print(b) \n",
    "\n",
    "##Linear Regression Model is not suitable for the binary dependent variables."
   ]
  },
  {
   "cell_type": "markdown",
   "metadata": {},
   "source": [
    "<font color = \"blue\" size = 3> $\\textbf{Logistic Regression Model:}$ </font>"
   ]
  },
  {
   "cell_type": "code",
   "execution_count": 27,
   "metadata": {},
   "outputs": [
    {
     "name": "stderr",
     "output_type": "stream",
     "text": [
      "/anaconda3/lib/python3.6/site-packages/sklearn/linear_model/logistic.py:432: FutureWarning: Default solver will be changed to 'lbfgs' in 0.22. Specify a solver to silence this warning.\n",
      "  FutureWarning)\n"
     ]
    },
    {
     "name": "stdout",
     "output_type": "stream",
     "text": [
      "LogisticRegression(C=1.0, class_weight=None, dual=False, fit_intercept=True,\n",
      "                   intercept_scaling=1, l1_ratio=None, max_iter=100,\n",
      "                   multi_class='warn', n_jobs=None, penalty='l2',\n",
      "                   random_state=None, solver='warn', tol=0.0001, verbose=0,\n",
      "                   warm_start=False)\n",
      "income      0     1\n",
      "row_0              \n",
      "0       10696  2577\n",
      "1         664  1123\n",
      "Predicted num of people will have >50K income is 1787\n",
      "Accuracy of model on train is 0.786752\n",
      "Accuracy of model on test is 0.784794\n"
     ]
    },
    {
     "data": {
      "image/png": "[encoded data removed]",
      "text/plain": [
       "<Figure size 432x288 with 1 Axes>"
      ]
     },
     "metadata": {},
     "output_type": "display_data"
    }
   ],
   "source": [
    "# Build Logistic Regression Model\n",
    "logR = LogisticRegression()\n",
    "logR.fit(X_train, y_train)\n",
    "print(logR)\n",
    "\n",
    "# prediction of train\n",
    "logR_pred = logR.predict(X_test)\n",
    "print(pd.crosstab(logR_pred, y_test))\n",
    "\n",
    "#Prediction for >50K\n",
    "over = sum(logR.predict(X_test))\n",
    "print('Predicted num of people will have >50K income is %d' %over)\n",
    "\n",
    "# Socre of Model\n",
    "print('Accuracy of model on train is %f' %logR.score(X_train,y_train))\n",
    "print('Accuracy of model on test is %f' %logR.score(X_test,y_test))\n",
    "\n",
    "# Draw ROC curve\n",
    "fpr, tpr, _ = metrics.roc_curve(y_test, logR.predict_proba(X_test)[:,1])\n",
    "plt.plot(fpr, tpr, linestyle = 'solid', color = 'red')\n",
    "plt.stackplot(fpr, tpr, color = 'palegreen')\n",
    "plt.plot([0,1],[0,1], linestyle = 'dashed', color = 'black')\n",
    "plt.text(0.6,0.4,'AUC=%.3f' % metrics.auc(fpr,tpr), fontdict = dict(size = 18))\n",
    "plt.show()\n"
   ]
  },
  {
   "cell_type": "markdown",
   "metadata": {},
   "source": [
    "<font color = \"blue\" size = 3> $\\textbf{K Neighbors Model:}$ </font>"
   ]
  },
  {
   "cell_type": "code",
   "execution_count": 17,
   "metadata": {},
   "outputs": [
    {
     "name": "stdout",
     "output_type": "stream",
     "text": [
      "KNeighborsClassifier(algorithm='auto', leaf_size=30, metric='minkowski',\n",
      "                     metric_params=None, n_jobs=None, n_neighbors=5, p=2,\n",
      "                     weights='uniform')\n",
      "income      0     1\n",
      "row_0              \n",
      "0       10364  2500\n",
      "1         996  1200\n",
      "Predicted num of people will have >50K income is 2196\n",
      "Accuracy of model on train is 0.831742\n",
      "Accuracy of model on test is 0.767862\n"
     ]
    }
   ],
   "source": [
    "#Built K Neighbours Model\n",
    "knc = KNeighborsClassifier()\n",
    "knc.fit(X_train, y_train)\n",
    "print(knc)\n",
    "\n",
    "#Predict test\n",
    "knc_pre = knc.predict(X_test)\n",
    "print(pd.crosstab(knc_pre, y_test))\n",
    "\n",
    "#Prediction for >50K\n",
    "over = sum(knc.predict(X_test))\n",
    "print('Predicted num of people will have >50K income is %d' %over)\n",
    "\n",
    "#Score of model\n",
    "print('Accuracy of model on train is %f' %knc.score(X_train,y_train))\n",
    "print('Accuracy of model on test is %f' %knc.score(X_test,y_test))"
   ]
  },
  {
   "cell_type": "code",
   "execution_count": 18,
   "metadata": {},
   "outputs": [
    {
     "data": {
      "image/png": "[encoded data removed]",
      "text/plain": [
       "<Figure size 432x288 with 1 Axes>"
      ]
     },
     "metadata": {},
     "output_type": "display_data"
    }
   ],
   "source": [
    "#ROC curve\n",
    "fpr, tpr, _ = metrics.roc_curve(y_test, knc.predict_proba(X_test)[:,1])\n",
    "plt.plot(fpr, tpr, linestyle = 'solid', color = 'red')\n",
    "# Add shadow\n",
    "plt.stackplot(fpr, tpr, color = 'palegreen')\n",
    "#Radom guessing line\n",
    "plt.plot([0,1],[0,1], linestyle = 'dashed', color = 'black')\n",
    "# Auc = area under ROC curve\n",
    "plt.text(0.6,0.4,'AUC=%.3f' % metrics.auc(fpr,tpr), fontdict = dict(size = 18))\n",
    "plt.show()"
   ]
  },
  {
   "cell_type": "markdown",
   "metadata": {},
   "source": [
    "<font color = \"blue\" size = 3> $\\textbf{GDBT Model:}$ </font>"
   ]
  },
  {
   "cell_type": "code",
   "execution_count": 19,
   "metadata": {},
   "outputs": [
    {
     "name": "stdout",
     "output_type": "stream",
     "text": [
      "GradientBoostingClassifier(criterion='friedman_mse', init=None,\n",
      "                           learning_rate=0.1, loss='deviance', max_depth=3,\n",
      "                           max_features=None, max_leaf_nodes=None,\n",
      "                           min_impurity_decrease=0.0, min_impurity_split=None,\n",
      "                           min_samples_leaf=1, min_samples_split=2,\n",
      "                           min_weight_fraction_leaf=0.0, n_estimators=100,\n",
      "                           n_iter_no_change=None, presort='auto',\n",
      "                           random_state=None, subsample=1.0, tol=0.0001,\n",
      "                           validation_fraction=0.1, verbose=0,\n",
      "                           warm_start=False)\n",
      "income      0     1\n",
      "row_0              \n",
      "0       10787  1491\n",
      "1         573  2209\n",
      "Predicted num of people will have >50K income is 2782\n",
      "Accuracy of model on train is 0.863868\n",
      "Accuracy of model on test is 0.862948\n"
     ]
    },
    {
     "data": {
      "image/png": "[encoded data removed]",
      "text/plain": [
       "<Figure size 432x288 with 1 Axes>"
      ]
     },
     "metadata": {},
     "output_type": "display_data"
    }
   ],
   "source": [
    "# Build GDBT Model\n",
    "gbdt = GradientBoostingClassifier()\n",
    "gbdt.fit(X_train, y_train)\n",
    "print(gbdt)\n",
    "\n",
    "# prediction of train\n",
    "gbdt_pred = gbdt.predict(X_test)\n",
    "print(pd.crosstab(gbdt_pred, y_test))\n",
    "\n",
    "#Prediction for >50K\n",
    "over = sum(gbdt.predict(X_test))\n",
    "print('Predicted num of people will have >50K income is %d' %over)\n",
    "\n",
    "# Socre of Model\n",
    "print('Accuracy of model on train is %f' %gbdt.score(X_train,y_train))\n",
    "print('Accuracy of model on test is %f' %gbdt.score(X_test,y_test))\n",
    "\n",
    "# Draw ROC curve\n",
    "fpr, tpr, _ = metrics.roc_curve(y_test, gbdt.predict_proba(X_test)[:,1])\n",
    "plt.plot(fpr, tpr, linestyle = 'solid', color = 'red')\n",
    "plt.stackplot(fpr, tpr, color = 'palegreen')\n",
    "plt.plot([0,1],[0,1], linestyle = 'dashed', color = 'black')\n",
    "plt.text(0.6,0.4,'AUC=%.3f' % metrics.auc(fpr,tpr), fontdict = dict(size = 18))\n",
    "plt.show()\n"
   ]
  },
  {
   "cell_type": "markdown",
   "metadata": {},
   "source": [
    "<font color = \"blue\" size = 3> $\\textbf{Naive Bayes Model:}$ </font>"
   ]
  },
  {
   "cell_type": "code",
   "execution_count": 20,
   "metadata": {
    "scrolled": true
   },
   "outputs": [
    {
     "name": "stdout",
     "output_type": "stream",
     "text": [
      "income      0     1\n",
      "row_0              \n",
      "0       10740  2564\n",
      "1         620  1136\n",
      "Predicted num of people will have >50K income is 1756\n",
      "Accuracy of model on train is 0.788476\n",
      "Accuracy of model on test is 0.788579\n"
     ]
    },
    {
     "data": {
      "image/png": "[encoded data removed]",
      "text/plain": [
       "<Figure size 432x288 with 1 Axes>"
      ]
     },
     "metadata": {},
     "output_type": "display_data"
    }
   ],
   "source": [
    "# Build Naive Bayes Model\n",
    "gaussianNB = GaussianNB()\n",
    "gaussianNB.fit(X_train, y_train)\n",
    "\n",
    "# prediction of train\n",
    "gaussianNB_pred = gaussianNB.predict(X_test)\n",
    "print(pd.crosstab(gaussianNB_pred, y_test))\n",
    "\n",
    "#Prediction for >50K\n",
    "over = sum(gaussianNB.predict(X_test))\n",
    "print('Predicted num of people will have >50K income is %d' %over)\n",
    "\n",
    "# Socre of Model\n",
    "print('Accuracy of model on train is %f' %gaussianNB.score(X_train,y_train))\n",
    "print('Accuracy of model on test is %f' %gaussianNB.score(X_test,y_test))\n",
    "\n",
    "# Draw ROC curve\n",
    "fpr, tpr, _ = metrics.roc_curve(y_test, gaussianNB.predict_proba(X_test)[:,1])\n",
    "plt.plot(fpr, tpr, linestyle = 'solid', color = 'red')\n",
    "plt.stackplot(fpr, tpr, color = 'palegreen')\n",
    "plt.plot([0,1],[0,1], linestyle = 'dashed', color = 'black')\n",
    "plt.text(0.6,0.4,'AUC=%.3f' % metrics.auc(fpr,tpr), fontdict = dict(size = 18))\n",
    "plt.show()"
   ]
  },
  {
   "cell_type": "markdown",
   "metadata": {},
   "source": [
    "<font color = \"blue\" size = 3> $\\textbf{Random Forset Model:}$ </font>"
   ]
  },
  {
   "cell_type": "code",
   "execution_count": 21,
   "metadata": {},
   "outputs": [
    {
     "name": "stderr",
     "output_type": "stream",
     "text": [
      "/anaconda3/lib/python3.6/site-packages/sklearn/ensemble/forest.py:245: FutureWarning: The default value of n_estimators will change from 10 in version 0.20 to 100 in 0.22.\n",
      "  \"10 in version 0.20 to 100 in 0.22.\", FutureWarning)\n"
     ]
    },
    {
     "name": "stdout",
     "output_type": "stream",
     "text": [
      "Accuracy of model on train is 0.987965\n",
      "Accuracy of model on test is 0.844688\n",
      "Predicted num of people will have >50K income is 2887\n"
     ]
    },
    {
     "data": {
      "image/png": "[encoded data removed]",
      "text/plain": [
       "<Figure size 432x288 with 1 Axes>"
      ]
     },
     "metadata": {},
     "output_type": "display_data"
    }
   ],
   "source": [
    "# Build Random Forest Model\n",
    "ranFor = RandomForestClassifier()\n",
    "ranFor.fit(X_train, y_train)\n",
    "\n",
    "# prediction of train\n",
    "ranFor_pred = ranFor.predict(X_test)\n",
    "\n",
    "# Socre of Model\n",
    "print('Accuracy of model on train is %f' %ranFor.score(X_train,y_train))\n",
    "print('Accuracy of model on test is %f' %ranFor.score(X_test,y_test))\n",
    "\n",
    "#Prediction for >50K\n",
    "over = sum(ranFor.predict(X_test))\n",
    "print('Predicted num of people will have >50K income is %d' %over)\n",
    "\n",
    "# Draw ROC curve\n",
    "fpr, tpr, _ = metrics.roc_curve(y_test, ranFor.predict_proba(X_test)[:,1])\n",
    "plt.plot(fpr, tpr, linestyle = 'solid', color = 'red')\n",
    "plt.stackplot(fpr, tpr, color = 'palegreen')\n",
    "plt.plot([0,1],[0,1], linestyle = 'dashed', color = 'black')\n",
    "plt.text(0.6,0.4,'AUC=%.3f' % metrics.auc(fpr,tpr), fontdict = dict(size = 18))\n",
    "plt.show()"
   ]
  }
 ],
 "metadata": {
  "kernelspec": {
   "display_name": "Python 3",
   "language": "python",
   "name": "python3"
  },
  "language_info": {
   "codemirror_mode": {
    "name": "ipython",
    "version": 3
   },
   "file_extension": ".py",
   "mimetype": "text/x-python",
   "name": "python",
   "nbconvert_exporter": "python",
   "pygments_lexer": "ipython3",
   "version": "3.6.8"
  }
 },
 "nbformat": 4,
 "nbformat_minor": 2
}
